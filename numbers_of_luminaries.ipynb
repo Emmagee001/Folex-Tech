{
 "cells": [
  {
   "cell_type": "code",
   "execution_count": null,
   "id": "bf9454a9-f416-441e-b016-a28e26adfd05",
   "metadata": {},
   "outputs": [],
   "source": [
    "# This short code can be used to calculate number of luminaries\n",
    "\n",
    "length = int(input(\"Enter the Length: \"))\n",
    "breath = int(input(\"Enter the Breath: \"))\n",
    "\n",
    "Area = length * breath\n",
    "\n",
    "Illumination = int(input(\"Enter the Illumination,E: \"))\n",
    "Utilization_Factor = float(input(\"Enter the Utilization Factor, UF: \"))\n",
    "Maintenance_Factor = float(input(\"Enter the Maintenance Factor, MF: \"))\n",
    "Luminious_Flux = int(input(\"Enter the Luminious Flux: \"))\n",
    "\n",
    "No_of_luminaries = (Area * Illumination) / (Utilization_Factor * Maintenance_Factor * Luminious_Flux)\n",
    "\n",
    "print(\"The Numbers of Luminaries is :\", round(No_of_luminaries),\"Luminaries\" )"
   ]
  }
 ],
 "metadata": {
  "kernelspec": {
   "display_name": "Python 3 (ipykernel)",
   "language": "python",
   "name": "python3"
  },
  "language_info": {
   "codemirror_mode": {
    "name": "ipython",
    "version": 3
   },
   "file_extension": ".py",
   "mimetype": "text/x-python",
   "name": "python",
   "nbconvert_exporter": "python",
   "pygments_lexer": "ipython3",
   "version": "3.12.0"
  }
 },
 "nbformat": 4,
 "nbformat_minor": 5
}
